{
 "cells": [
  {
   "cell_type": "code",
   "execution_count": 2,
   "metadata": {},
   "outputs": [],
   "source": [
    "import os\n",
    "import pandas as pd\n",
    "import requests\n",
    "import json\n",
    "import datetime as dt\n",
    "from colorama import Fore, Back, Style\n",
    "import time\n",
    "import concurrent.futures\n"
   ]
  },
  {
   "cell_type": "code",
   "execution_count": 5,
   "metadata": {},
   "outputs": [
    {
     "name": "stdout",
     "output_type": "stream",
     "text": [
      "2020-06-29 22:24:43.183363\n"
     ]
    }
   ],
   "source": [
    "#timestamp\n",
    "timstamp = dt.datetime.now()\n",
    "print(timstamp)"
   ]
  },
  {
   "cell_type": "code",
   "execution_count": 6,
   "metadata": {},
   "outputs": [
    {
     "name": "stdout",
     "output_type": "stream",
     "text": [
      "/Users/pujakumari/Desktop/PYTHON/Python_Parallelization\n"
     ]
    }
   ],
   "source": [
    "#current directory\n",
    "print(os.getcwd())"
   ]
  },
  {
   "cell_type": "code",
   "execution_count": 7,
   "metadata": {},
   "outputs": [],
   "source": [
    "# #### index starts from 0. Find the position of your team name and assign the correct value to variable - 'i'\n"
   ]
  },
  {
   "cell_type": "code",
   "execution_count": 14,
   "metadata": {},
   "outputs": [
    {
     "data": {
      "text/plain": [
       "['DT%20-%20Accountable%20Gladiators',\n",
       " 'DT%20-%20DeltaForce',\n",
       " 'DT%20-%20Disruptors',\n",
       " 'DT%20-%20Transformers',\n",
       " 'DT-Chargers',\n",
       " 'DT-Equalizers',\n",
       " 'DT-OMG',\n",
       " 'DT-PayTheMan',\n",
       " 'DT-Req2Check']"
      ]
     },
     "execution_count": 14,
     "metadata": {},
     "output_type": "execute_result"
    }
   ],
   "source": [
    "sc_team_name = ['DT%20-%20Accountable%20Gladiators', 'DT%20-%20DeltaForce', 'DT%20-%20Disruptors', 'DT%20-%20Transformers', 'DT-Chargers', 'DT-Equalizers', 'DT-OMG', 'DT-PayTheMan', 'DT-Req2Check']\n",
    "sc_team_name\n"
   ]
  },
  {
   "cell_type": "code",
   "execution_count": 15,
   "metadata": {},
   "outputs": [],
   "source": [
    "i = 1 #7 #for Pay the man\n",
    "scrum_team_name = sc_team_name[i]"
   ]
  },
  {
   "cell_type": "code",
   "execution_count": 16,
   "metadata": {},
   "outputs": [],
   "source": [
    "#Failed_Jenkins_Job_filename = scrum_team_name + '_' + 'Failed_Jenkins_Job_stage' + '_' + str(timstamp).replace(' ', '_').replace(':', '-') + '.xlsx'\n",
    "jenkins_job_file_name = scrum_team_name + '_' + 'Jenkins_Job' + '_' + str(timstamp).replace(' ', '_').replace(':', '-') + '.xlsx'\n",
    "stage_Jenkins_Job_file_name = scrum_team_name + '_' + 'stage_Jenkins_Job' + '_' + str(timstamp).replace(' ', '_').replace(':', '-') + '.xlsx'\n",
    "dev_Jenkins_Job_file_name = scrum_team_name + '_' + 'dev_Jenkins_Job' + '_' + str(timstamp).replace(' ', '_').replace(':', '-') + '.xlsx'\n"
   ]
  },
  {
   "cell_type": "code",
   "execution_count": null,
   "metadata": {},
   "outputs": [],
   "source": [
    "column_names = [\"test_id\", \"fullDisplayName\", \"buildNumber\", \"result\", \"instance_name\",\"virtualMachine\", \"buildURL\", \"testComplete_or_console_ErrMessage\", \"testCompleteURL\", \"consoleLogPage\"]\n",
    "df_Jenkins_Aut_job = pd.DataFrame(columns = column_names)\n",
    "scrum_team_url = 'https://testwin.epfin.coxautoinc.com/view/' + scrum_team_name + '/api/json'\n",
    "\n"
   ]
  },
  {
   "cell_type": "code",
   "execution_count": null,
   "metadata": {},
   "outputs": [],
   "source": [
    "resp_tc_folder = requests.get(scrum_team_url)\n",
    "resp_tc_folder\n",
    "test_folder_count = len(resp_tc_folder.json()['jobs'])\n",
    "print('test_folder_count:',test_folder_count)"
   ]
  },
  {
   "cell_type": "code",
   "execution_count": null,
   "metadata": {},
   "outputs": [],
   "source": [
    "for i in range(test_folder_count):\n",
    "    print(resp_tc_folder.json()['jobs'][i]['name'])\n",
    "    "
   ]
  },
  {
   "cell_type": "code",
   "execution_count": null,
   "metadata": {},
   "outputs": [],
   "source": [
    "#print('execute the main logic to get build details of Jenkins test case')\n",
    "def core_functionality(tc_fl):\n",
    "    \n",
    "  tc_folder_url = resp_tc_folder.json()['jobs'][tc_fl]['url'] + 'api/json'\n",
    "  resp_tc_folder_url = requests.get(tc_folder_url)\n",
    "  jsonRes = resp_tc_folder_url.json()# To get response dictionary as JSON\n",
    "  \n",
    "  # loop count = number of testcase inside the folder\n",
    "  test_case_count = len(jsonRes['jobs'])\n",
    "  #print('test_case_count:',test_case_count)\n",
    "\n",
    "  for i in range(0,test_case_count):\n",
    "     suffix = 'api/json'\n",
    "     url = jsonRes['jobs'][i]['url'] + suffix\n",
    "     tc_url = requests.get(url)\n",
    "     color_of_tes_case = jsonRes['jobs'][i]['color']\n",
    "     \n",
    "     if color_of_tes_case in ['red','blue']:\n",
    "         \n",
    "         print(Fore.GREEN + '*********************')\n",
    "         print(Style.RESET_ALL)\n",
    "         \n",
    "             \n",
    "             \n",
    "            # print(Back.RED + 'test folder name:',resp_tc_folder.json()['jobs'][tc_fl]['name'])\n",
    "            # print(Style.RESET_ALL)\n",
    "            # print(Back.RED + 'Failed - last build for test-case name:', jsonRes['jobs'][i]['name'])\n",
    "            # print(Style.RESET_ALL)\n",
    "\n",
    "         print(Back.GREEN + 'test folder name:',resp_tc_folder.json()['jobs'][tc_fl]['name'])\n",
    "         print(Style.RESET_ALL)\n",
    "         print(Back.GREEN + 'test-case name:', jsonRes['jobs'][i]['name'])\n",
    "         print(Style.RESET_ALL)          \n",
    "     \n",
    "         print(Fore.GREEN + '*********************')\n",
    "         print(Style.RESET_ALL) \n",
    "         #print('back to normal now') \n",
    "\n",
    "         df_Jenkins_Aut_job = df_Jenkins_Aut_job.append({\n",
    "                   \"test_id\": None,\n",
    "                   \"fullDisplayName\": None,\n",
    "                   \"buildNumber\": None,\n",
    "                   \"result\": None,\n",
    "                   \"instance_name\":None,\n",
    "                   \"virtualMachine\": None,\n",
    "                   \"buildURL\": None,\n",
    "                   \"testComplete_or_console_ErrMessage\": None,\n",
    "                   \"testCompleteURL\": None,\n",
    "                   \"consoleLogPage\":None}, ignore_index = True)    \n",
    "         \n",
    "         #fetching details of last 2 build details \n",
    "         if len(tc_url.json()['builds']) > 2:\n",
    "             lc_builds = 2\n",
    "         else:\n",
    "             lc_builds = len(tc_url.json()['builds'])\n",
    "                \n",
    "         #build loop  \n",
    "         for last_4_build in range(0,lc_builds):\n",
    "             buildNumber_Seq = tc_url.json()['builds'][last_4_build]['number']\n",
    "             buildURL_Seq = tc_url.json()['builds'][last_4_build]['url']\n",
    "             \n",
    "             json_url= buildURL_Seq +'api/json'\n",
    "             \n",
    "             #command to get details of the test case build\n",
    "             tc_bulk_details = requests.get(json_url)\n",
    "             \n",
    "             #'********details of test case build*********'\n",
    "             test_id = jsonRes['jobs'][i]['name'].split('_')[0]\n",
    "             fullDisplayName = tc_bulk_details.json()['fullDisplayName']\n",
    "             buildNumber = tc_bulk_details.json()['number']\n",
    "             testResult = tc_bulk_details.json()['result']\n",
    "             virtualMachine = tc_bulk_details.json()['builtOn']\n",
    "             instance_name = virtualMachine.split('-')[0]\n",
    "             buildURL = tc_bulk_details.json()['url']\n",
    "             consoleTextURL = tc_bulk_details.json()['url'] + 'consoleText'\n",
    "             \n",
    "             #'****logic to get error message from consoletext\n",
    "             try:\n",
    "                 if testResult == 'FAILURE':\n",
    "                   console = requests.get( buildURL + 'consoleText/api/json')\n",
    "                   s = console.text\n",
    "                   start = s.find(\"ERROR [SoapUIProTestCaseRunner]\") + len(\"ERROR [SoapUIProTestCaseRunner]\")\n",
    "                   end_string = \"INFO  [log] \" + test_id[2: ]\n",
    "                   end = s.find(end_string)\n",
    "                   console_err_msg = s[start: end]\n",
    "                 else:\n",
    "                    console_err_msg = None  \n",
    "             except:\n",
    "                   console_err_msg = 'Not able to get the console error message'\n",
    "                   \n",
    "             # '****logic to get error_message for TestComplete Automation********'\n",
    "             try:\n",
    "                 if testResult == 'FAILURE':\n",
    "                   test_comp_job_url = buildURL + 'TestComplete/api/json'\n",
    "                   resp_test_comp_job_url = requests.get(test_comp_job_url)\n",
    "                   tc_error_message = resp_test_comp_job_url.json()['reports'][0]['error']\n",
    "                   test_comp_url = resp_test_comp_job_url.json()['reports'][0]['url']\n",
    "                 else:\n",
    "                     test_comp_job_url = buildURL + 'TestComplete/api/json'\n",
    "                     resp_test_comp_job_url = requests.get(test_comp_job_url)\n",
    "                     test_comp_url = resp_test_comp_job_url.json()['reports'][0]['url']\n",
    "                     tc_error_message  = None      \n",
    "             except:\n",
    "                   tc_error_message = console_err_msg\n",
    "                   test_comp_url = 'No TestComplete URL for this test case '\n",
    "             finally: \n",
    "                   #populate empty dataframe to store failed job detailsand keep appending new records\n",
    "                   df_Jenkins_Aut_job = df_Jenkins_Aut_job.append({\n",
    "                   \"test_id\": test_id,\n",
    "                   \"fullDisplayName\": fullDisplayName,\n",
    "                   \"buildNumber\": buildNumber,\n",
    "                   \"result\": testResult,\n",
    "                   \"instance_name\":instance_name,\n",
    "                   \"virtualMachine\": virtualMachine,\n",
    "                   \"buildURL\": buildURL,\n",
    "                   \"testComplete_or_console_ErrMessage\": tc_error_message,\n",
    "                   \"testCompleteURL\": test_comp_url,\n",
    "                   \"consoleLogPage\":consoleTextURL\n",
    "                   }, ignore_index = True)\n",
    "\n",
    "  return df_Jenkins_Aut_job\n"
   ]
  },
  {
   "cell_type": "code",
   "execution_count": null,
   "metadata": {},
   "outputs": [],
   "source": [
    "print('execute the main logic to get build details of Jenkins test case')\n",
    "\n",
    "df_Jenkins_Aut_job_final = pd.DataFrame(columns = column_names)\n",
    "\n",
    "with concurrent.futures.ThreadPoolExecutor() as executor:\n",
    "    results = [executor.submit(target=core_functionality, tc_fl) for tc_fl in range(test_folder_count)]\n",
    "    \n",
    "    for df in concurrent.futures.as_completed(results):\n",
    "        df_Jenkins_Aut_job_final.append(df.result())\n",
    "    \n",
    "\n",
    "    \n",
    "   "
   ]
  },
  {
   "cell_type": "code",
   "execution_count": null,
   "metadata": {},
   "outputs": [],
   "source": [
    "df_Jenkins_Aut_job.to_excel(jenkins_job_file_name)\n",
    "df_Jenkins_Aut_job[df_Jenkins_Aut_job['instance_name'] =='stage'].to_excel('stage_Jenkins_Job.xlsx')\n",
    "df_Jenkins_Aut_job[df_Jenkins_Aut_job['instance_name'] =='dev'].to_excel('dev_Jenkins_Job.xlsx')\n",
    "print('Open file -  ' + jenkins_job_file_name + '  to see Jenkins job details')\n"
   ]
  }
 ],
 "metadata": {
  "kernelspec": {
   "display_name": "Python 3",
   "language": "python",
   "name": "python3"
  },
  "language_info": {
   "codemirror_mode": {
    "name": "ipython",
    "version": 3
   },
   "file_extension": ".py",
   "mimetype": "text/x-python",
   "name": "python",
   "nbconvert_exporter": "python",
   "pygments_lexer": "ipython3",
   "version": "3.7.7"
  }
 },
 "nbformat": 4,
 "nbformat_minor": 4
}
