{
 "cells": [
  {
   "cell_type": "code",
   "execution_count": 75,
   "metadata": {},
   "outputs": [],
   "source": [
    "import multiprocessing\n",
    "import concurrent.futures\n",
    "import time\n",
    "import numpy as np"
   ]
  },
  {
   "cell_type": "code",
   "execution_count": 76,
   "metadata": {},
   "outputs": [],
   "source": [
    "def func(name):\n",
    "    print(\"Name :\", name)\n",
    "    res = np.zeros((10000,10000))\n",
    "    for i in range(10000):\n",
    "        for j in range(10000):\n",
    "            res[i][j] = i + j\n",
    "            \n",
    "    #print(res)        \n",
    "    return name\n"
   ]
  },
  {
   "cell_type": "code",
   "execution_count": 77,
   "metadata": {},
   "outputs": [],
   "source": [
    "names = ['Bob', 'Alex', 'Rohan', 'Sohan']"
   ]
  },
  {
   "cell_type": "markdown",
   "metadata": {},
   "source": [
    "## Method-1"
   ]
  },
  {
   "cell_type": "code",
   "execution_count": 78,
   "metadata": {},
   "outputs": [
    {
     "name": "stdout",
     "output_type": "stream",
     "text": [
      "Name : Bob\n",
      "Name : Alex\n",
      "Name : Rohan\n",
      "Name : Sohan\n",
      "Rohan\n",
      "Sohan\n",
      "Alex\n",
      "Bob\n",
      "Time taken :  96.22529411315918\n"
     ]
    }
   ],
   "source": [
    "start = time.time()\n",
    "with concurrent.futures.ProcessPoolExecutor(4) as executor:\n",
    "    results = [executor.submit(func, name) for name in names]\n",
    "    \n",
    "    for f in concurrent.futures.as_completed(results):\n",
    "        print(f.result())\n",
    "        \n",
    "finish = time.time()\n",
    "print(\"Time taken : \", finish - start)"
   ]
  },
  {
   "cell_type": "markdown",
   "metadata": {},
   "source": [
    "### Method 1.1 Using Threading \n",
    "    It is taking more time compare to multiprocessing because the job here is more CPU intensive and not I/O bound."
   ]
  },
  {
   "cell_type": "code",
   "execution_count": 79,
   "metadata": {},
   "outputs": [
    {
     "name": "stdout",
     "output_type": "stream",
     "text": [
      "Name : Bob\n",
      "Name : Alex\n",
      "Name : Rohan\n",
      "Name : Sohan\n",
      "Alex\n",
      "Sohan\n",
      "Bob\n",
      "Rohan\n",
      "Time taken :  183.5197629928589\n"
     ]
    }
   ],
   "source": [
    "start = time.time()\n",
    "with concurrent.futures.ThreadPoolExecutor(4) as executor:\n",
    "    results = [executor.submit(func, name) for name in names]\n",
    "    \n",
    "    for f in concurrent.futures.as_completed(results):\n",
    "        print(f.result())\n",
    "        \n",
    "finish = time.time()\n",
    "print(\"Time taken : \", finish - start)"
   ]
  },
  {
   "cell_type": "markdown",
   "metadata": {},
   "source": [
    "## Method-2"
   ]
  },
  {
   "cell_type": "code",
   "execution_count": 80,
   "metadata": {},
   "outputs": [
    {
     "name": "stdout",
     "output_type": "stream",
     "text": [
      "Name : Alex\n",
      "Name : Bob\n",
      "Name : Sohan\n",
      "Name : Rohan\n",
      "Bob\n",
      "Alex\n",
      "Rohan\n",
      "Sohan\n",
      "Time taken :  97.47822308540344\n"
     ]
    }
   ],
   "source": [
    "start = time.time()\n",
    "with concurrent.futures.ProcessPoolExecutor(4) as executor:\n",
    "    results = executor.map(func, names)\n",
    "    \n",
    "    for result in results:\n",
    "        print(result)\n",
    "        \n",
    "finish = time.time()\n",
    "print(\"Time taken : \", finish - start)        "
   ]
  },
  {
   "cell_type": "markdown",
   "metadata": {},
   "source": [
    "## Method-3"
   ]
  },
  {
   "cell_type": "code",
   "execution_count": 81,
   "metadata": {},
   "outputs": [
    {
     "name": "stdout",
     "output_type": "stream",
     "text": [
      "Name : Bob\n",
      "Name : Alex\n",
      "Name : Rohan\n",
      "Name : Sohan\n",
      "Time taken :  111.85571622848511\n"
     ]
    }
   ],
   "source": [
    "start = time.time()\n",
    "processes = []\n",
    "for name in names:\n",
    "    p = multiprocessing.Process(target=func, args=[name])\n",
    "    p.start()\n",
    "    processes.append(p)\n",
    "    \n",
    "for process in processes:\n",
    "    process.join()\n",
    "    \n",
    "finish = time.time()\n",
    "print(\"Time taken : \", finish - start)    "
   ]
  }
 ],
 "metadata": {
  "kernelspec": {
   "display_name": "Python 3",
   "language": "python",
   "name": "python3"
  },
  "language_info": {
   "codemirror_mode": {
    "name": "ipython",
    "version": 3
   },
   "file_extension": ".py",
   "mimetype": "text/x-python",
   "name": "python",
   "nbconvert_exporter": "python",
   "pygments_lexer": "ipython3",
   "version": "3.7.7"
  }
 },
 "nbformat": 4,
 "nbformat_minor": 4
}
