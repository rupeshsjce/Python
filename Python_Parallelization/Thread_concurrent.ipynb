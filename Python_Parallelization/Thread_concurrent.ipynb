{
 "cells": [
  {
   "cell_type": "markdown",
   "metadata": {},
   "source": [
    "# Running code concurrently using threading ..."
   ]
  },
  {
   "cell_type": "code",
   "execution_count": 2,
   "metadata": {},
   "outputs": [
    {
     "name": "stdout",
     "output_type": "stream",
     "text": [
      "photo-1516117172878-fd2c41f4a759.jpg was downloaded...\n",
      "photo-1564135624576-c5c88640f235.jpg was downloaded...\n",
      "photo-1507143550189-fed454f93097.jpg was downloaded...\n",
      "photo-1549692520-acc6669e2f0c.jpg was downloaded...\n",
      "photo-1530122037265-a5f1f91d3b99.jpg was downloaded...\n",
      "photo-1530224264768-7ff8c1789d79.jpg was downloaded...\n",
      "photo-1516972810927-80185027ca84.jpg was downloaded...\n",
      "photo-1504198453319-5ce911bafcde.jpg was downloaded...\n",
      "photo-1550439062-609e1531270e.jpg was downloaded...\n",
      "photo-1541698444083-023c97d3f4b6.jpg was downloaded...\n",
      "photo-1513938709626-033611b8cc03.jpg was downloaded...\n",
      "photo-1532009324734-20a7a5813719.jpg was downloaded...\n",
      "photo-1524429656589-6633a470097c.jpg was downloaded...\n",
      "photo-1522364723953-452d3431c267.jpg was downloaded...\n",
      "photo-1493976040374-85c8e12f0c0e.jpg was downloaded...\n",
      "Finished in 12.623147798000005 seconds\n"
     ]
    }
   ],
   "source": [
    "import requests\n",
    "import time\n",
    "import concurrent.futures\n",
    "\n",
    "img_urls = [\n",
    "    'https://images.unsplash.com/photo-1516117172878-fd2c41f4a759',\n",
    "    'https://images.unsplash.com/photo-1532009324734-20a7a5813719',\n",
    "    'https://images.unsplash.com/photo-1524429656589-6633a470097c',\n",
    "    'https://images.unsplash.com/photo-1530224264768-7ff8c1789d79',\n",
    "    'https://images.unsplash.com/photo-1564135624576-c5c88640f235',\n",
    "    'https://images.unsplash.com/photo-1541698444083-023c97d3f4b6',\n",
    "    'https://images.unsplash.com/photo-1522364723953-452d3431c267',\n",
    "    'https://images.unsplash.com/photo-1513938709626-033611b8cc03',\n",
    "    'https://images.unsplash.com/photo-1507143550189-fed454f93097',\n",
    "    'https://images.unsplash.com/photo-1493976040374-85c8e12f0c0e',\n",
    "    'https://images.unsplash.com/photo-1504198453319-5ce911bafcde',\n",
    "    'https://images.unsplash.com/photo-1530122037265-a5f1f91d3b99',\n",
    "    'https://images.unsplash.com/photo-1516972810927-80185027ca84',\n",
    "    'https://images.unsplash.com/photo-1550439062-609e1531270e',\n",
    "    'https://images.unsplash.com/photo-1549692520-acc6669e2f0c'\n",
    "]\n",
    "\n",
    "t1 = time.perf_counter()\n",
    "\n",
    "\n",
    "def download_image(img_url):\n",
    "    img_bytes = requests.get(img_url).content\n",
    "    img_name = img_url.split('/')[3]\n",
    "    img_name = f'{img_name}.jpg'\n",
    "    with open(img_name, 'wb') as img_file:\n",
    "        img_file.write(img_bytes)\n",
    "        print(f'{img_name} was downloaded...')\n",
    "\n",
    "\n",
    "with concurrent.futures.ThreadPoolExecutor() as executor:\n",
    "    executor.map(download_image, img_urls)\n",
    "\n",
    "\n",
    "t2 = time.perf_counter()\n",
    "\n",
    "print(f'Finished in {t2-t1} seconds')"
   ]
  },
  {
   "cell_type": "markdown",
   "metadata": {},
   "source": [
    "# MultiProcessing Concept (running code in Parallel)..."
   ]
  },
  {
   "cell_type": "code",
   "execution_count": 4,
   "metadata": {},
   "outputs": [
    {
     "name": "stdout",
     "output_type": "stream",
     "text": [
      "photo-1507143550189-fed454f93097.jpg was downloaded...\n",
      "photo-1516117172878-fd2c41f4a759.jpg was downloaded...\n",
      "photo-1564135624576-c5c88640f235.jpg was downloaded...\n",
      "photo-1549692520-acc6669e2f0c.jpg was downloaded...\n",
      "photo-1516972810927-80185027ca84.jpg was downloaded...\n",
      "photo-1524429656589-6633a470097c.jpg was downloaded...\n",
      "photo-1530122037265-a5f1f91d3b99.jpg was downloaded...\n",
      "photo-1550439062-609e1531270e.jpg was downloaded...\n",
      "photo-1530224264768-7ff8c1789d79.jpg was downloaded...\n",
      "photo-1513938709626-033611b8cc03.jpg was downloaded...\n",
      "photo-1532009324734-20a7a5813719.jpg was downloaded...\n",
      "photo-1504198453319-5ce911bafcde.jpg was downloaded...\n",
      "photo-1541698444083-023c97d3f4b6.jpg was downloaded...\n",
      "photo-1522364723953-452d3431c267.jpg was downloaded...\n",
      "photo-1493976040374-85c8e12f0c0e.jpg was downloaded...\n",
      "Finished in 12.688779563000011 seconds\n"
     ]
    }
   ],
   "source": [
    "import requests\n",
    "import time\n",
    "#import concurrent.futures\n",
    "import multiprocessing\n",
    "\n",
    "img_urls = [\n",
    "    'https://images.unsplash.com/photo-1516117172878-fd2c41f4a759',\n",
    "    'https://images.unsplash.com/photo-1532009324734-20a7a5813719',\n",
    "    'https://images.unsplash.com/photo-1524429656589-6633a470097c',\n",
    "    'https://images.unsplash.com/photo-1530224264768-7ff8c1789d79',\n",
    "    'https://images.unsplash.com/photo-1564135624576-c5c88640f235',\n",
    "    'https://images.unsplash.com/photo-1541698444083-023c97d3f4b6',\n",
    "    'https://images.unsplash.com/photo-1522364723953-452d3431c267',\n",
    "    'https://images.unsplash.com/photo-1513938709626-033611b8cc03',\n",
    "    'https://images.unsplash.com/photo-1507143550189-fed454f93097',\n",
    "    'https://images.unsplash.com/photo-1493976040374-85c8e12f0c0e',\n",
    "    'https://images.unsplash.com/photo-1504198453319-5ce911bafcde',\n",
    "    'https://images.unsplash.com/photo-1530122037265-a5f1f91d3b99',\n",
    "    'https://images.unsplash.com/photo-1516972810927-80185027ca84',\n",
    "    'https://images.unsplash.com/photo-1550439062-609e1531270e',\n",
    "    'https://images.unsplash.com/photo-1549692520-acc6669e2f0c'\n",
    "]\n",
    "\n",
    "t1 = time.perf_counter()\n",
    "\n",
    "\n",
    "def download_image(img_url):\n",
    "    img_bytes = requests.get(img_url).content\n",
    "    img_name = img_url.split('/')[3]\n",
    "    img_name = f'{img_name}.jpg'\n",
    "    with open(img_name, 'wb') as img_file:\n",
    "        img_file.write(img_bytes)\n",
    "        print(f'{img_name} was downloaded...')\n",
    "        \n",
    "processess = []\n",
    "for i in range(len(img_urls)):\n",
    "    p = multiprocessing.Process(target=download_image, args=[img_urls[i]])\n",
    "    p.start()\n",
    "    processess.append(p)\n",
    "    \n",
    "for process in processess:\n",
    "    process.join()\n",
    "\n",
    "t2 = time.perf_counter()\n",
    "\n",
    "print(f'Finished in {t2-t1} seconds')"
   ]
  },
  {
   "cell_type": "markdown",
   "metadata": {},
   "source": [
    "## Interprocess communication (IPC)"
   ]
  },
  {
   "cell_type": "code",
   "execution_count": 26,
   "metadata": {},
   "outputs": [
    {
     "name": "stdout",
     "output_type": "stream",
     "text": [
      "[]\n"
     ]
    }
   ],
   "source": [
    "from multiprocessing import Process, Manager\n",
    "import requests\n",
    "\n",
    "# Global variable\n",
    "#L = []\n",
    "\n",
    "def dothing(L,i,mutex):  # the managed list `L` passed explicitly.\n",
    "    \n",
    "    #sample = \"(12,8)\"\n",
    "    response = requests.get(' https://24zl01u3ff.execute-api.us-west-1.amazonaws.com/beta')\n",
    "    response.raise_for_status()\n",
    "    jsonResponse = response.json()\n",
    "    #print(\"Entire JSON response\")\n",
    "    #print(jsonResponse)\n",
    "    #print(jsonResponse[\"body\"])\n",
    "    flips = jsonResponse[\"body\"]\n",
    "    sample = (flips.count('1'), flips.count('0'))\n",
    "    #print(sample)\n",
    "    mutex.acquire()\n",
    "    L.append(sample)\n",
    "    mutex.release()\n",
    "\n",
    "\n",
    "if __name__ == \"__main__\":\n",
    "    mutex = multiprocessing.Lock()\n",
    "    with Manager() as manager:\n",
    "        L = manager.list()  # <-- can be shared between processes.\n",
    "        processes = []\n",
    "        for i in range(5):\n",
    "            p = Process(target=dothing, args=(L,i,mutex))  # Passing the list\n",
    "            p.start()\n",
    "            processes.append(p)\n",
    "        for p in processes:\n",
    "            p.join()\n",
    "        print(L)"
   ]
  },
  {
   "cell_type": "code",
   "execution_count": null,
   "metadata": {},
   "outputs": [],
   "source": []
  },
  {
   "cell_type": "code",
   "execution_count": null,
   "metadata": {},
   "outputs": [],
   "source": []
  }
 ],
 "metadata": {
  "kernelspec": {
   "display_name": "Python 3",
   "language": "python",
   "name": "python3"
  },
  "language_info": {
   "codemirror_mode": {
    "name": "ipython",
    "version": 3
   },
   "file_extension": ".py",
   "mimetype": "text/x-python",
   "name": "python",
   "nbconvert_exporter": "python",
   "pygments_lexer": "ipython3",
   "version": "3.7.7"
  }
 },
 "nbformat": 4,
 "nbformat_minor": 4
}
